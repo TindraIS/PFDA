{
 "cells": [
  {
   "cell_type": "markdown",
   "metadata": {},
   "source": [
    "## Import libraries"
   ]
  },
  {
   "cell_type": "code",
   "execution_count": 1,
   "metadata": {},
   "outputs": [],
   "source": [
    "from nba_api.stats.endpoints import leaguegamefinder, playergamelog, commonteamroster\n",
    "from nba_api.stats.static import teams, players\n",
    "import pandas as pd\n",
    "import requests\n",
    "from bs4 import BeautifulSoup\n",
    "from datetime import datetime\n",
    "import os\n",
    "import matplotlib.pyplot as plt\n",
    "\n",
    "%load_ext autoreload \n",
    "%autoreload 2"
   ]
  },
  {
   "cell_type": "markdown",
   "metadata": {},
   "source": [
    "## Data collection"
   ]
  },
  {
   "cell_type": "markdown",
   "metadata": {},
   "source": [
    "**References:**\n",
    "- https://medium.com/@juliuscecilia33/predicting-nba-game-results-using-machine-learning-and-python-6be209d6d165\n",
    "- https://github.com/luke-lite/NBA-Web-Scraper/tree/main\n",
    "- https://github.com/luke-lite/NBA-Prediction-Modeling?tab=readme-ov-file"
   ]
  },
  {
   "cell_type": "code",
   "execution_count": 2,
   "metadata": {},
   "outputs": [
    {
     "name": "stdout",
     "output_type": "stream",
     "text": [
      "\n",
      "Fetching past games...\n",
      "\n",
      "Fetching future games...\n"
     ]
    },
    {
     "name": "stderr",
     "output_type": "stream",
     "text": [
      "C:\\Users\\ifs\\AppData\\Local\\Temp\\ipykernel_23484\\3890019489.py:27: FutureWarning: Passing literal html to 'read_html' is deprecated and will be removed in a future version. To read from a literal string, wrap it in a 'StringIO' object.\n",
      "  future_games = pd.read_html(str(table))[0]\n"
     ]
    },
    {
     "name": "stdout",
     "output_type": "stream",
     "text": [
      "\n",
      "Fetching player data...\n",
      "Fetching game log for: Jayson Tatum\n",
      "Fetching game log for: Jrue Holiday\n",
      "Fetching game log for: Jaylen Brown\n",
      "Fetching game log for: Kristaps Porziņģis\n",
      "Fetching game log for: Derrick White\n",
      "Fetching game log for: Payton Pritchard\n",
      "Fetching game log for: Drew Peterson\n",
      "Fetching game log for: JD Davison\n",
      "Fetching game log for: Xavier Tillman\n",
      "Fetching game log for: Jordan Walsh\n",
      "Fetching game log for: Anton Watson\n"
     ]
    },
    {
     "name": "stderr",
     "output_type": "stream",
     "text": [
      "C:\\Users\\ifs\\AppData\\Local\\Temp\\ipykernel_23484\\3890019489.py:59: FutureWarning: The behavior of DataFrame concatenation with empty or all-NA entries is deprecated. In a future version, this will no longer exclude empty or all-NA columns when determining the result dtypes. To retain the old behavior, exclude the relevant entries before the concat operation.\n",
      "  all_player_logs = pd.concat([all_player_logs, player_log], ignore_index=True)\n"
     ]
    },
    {
     "name": "stdout",
     "output_type": "stream",
     "text": [
      "Fetching game log for: Sam Hauser\n",
      "Fetching game log for: Luke Kornet\n",
      "Fetching game log for: Al Horford\n",
      "Fetching game log for: Jaden Springer\n",
      "Fetching game log for: Baylor Scheierman\n"
     ]
    },
    {
     "name": "stderr",
     "output_type": "stream",
     "text": [
      "C:\\Users\\ifs\\AppData\\Local\\Temp\\ipykernel_23484\\3890019489.py:59: FutureWarning: The behavior of DataFrame concatenation with empty or all-NA entries is deprecated. In a future version, this will no longer exclude empty or all-NA columns when determining the result dtypes. To retain the old behavior, exclude the relevant entries before the concat operation.\n",
      "  all_player_logs = pd.concat([all_player_logs, player_log], ignore_index=True)\n"
     ]
    },
    {
     "name": "stdout",
     "output_type": "stream",
     "text": [
      "Fetching game log for: Neemias Queta\n",
      ".csv files saved.\n"
     ]
    }
   ],
   "source": [
    "# URL for web scraping of Boston Celtics games\n",
    "FUTURE_SCHEDULE_URL = 'https://www.basketball-reference.com/teams/BOS/2025_games.html'\n",
    "\n",
    "# 1 Fetch historical stats with LeagueGameFinder\n",
    "def fetch_past_games():\n",
    "    nba_teams = teams.get_teams()\n",
    "    celtics = [team for team in nba_teams if team['abbreviation'] == 'BOS'][0]\n",
    "    team_id = celtics['id']\n",
    "\n",
    "    # Fetch past games\n",
    "    gamefinder = leaguegamefinder.LeagueGameFinder(team_id_nullable=team_id)\n",
    "    past_games = gamefinder.get_data_frames()[0]\n",
    "\n",
    "    # Clean and process data\n",
    "    past_games['GAME_DATE'] = pd.to_datetime(past_games['GAME_DATE'])\n",
    "    past_games['WIN'] = past_games['WL'].apply(lambda x: 1 if x == 'W' else 0)\n",
    "    past_games['HOME_GAME'] = past_games['MATCHUP'].apply(lambda x: 1 if 'vs.' in x else 0)\n",
    "    return past_games\n",
    "\n",
    "# 2 Fetch upcoming games from Basketball Reference\n",
    "def fetch_future_games():\n",
    "    response = requests.get(FUTURE_SCHEDULE_URL)\n",
    "    soup = BeautifulSoup(response.content, 'html.parser')\n",
    "\n",
    "    # Extract the schedule table\n",
    "    table = soup.find('table', {'id': 'games'})\n",
    "    future_games = pd.read_html(str(table))[0]\n",
    "\n",
    "    # Filter and clean the data\n",
    "    future_games = future_games[future_games['Date'].notna()]                   # Drop invalid rows\n",
    "    future_games['Date'] = pd.to_datetime(future_games['Date'], errors='coerce')\n",
    "    future_games = future_games[future_games['Date'] >= datetime.now()]         # Only future dates\n",
    "\n",
    "    return future_games\n",
    "\n",
    "# 3 Fetch player data\n",
    "def fetch_player_data():\n",
    "    # Boston Celtics Team ID (1610612738)\n",
    "    team_id = 1610612738\n",
    "\n",
    "    # Fetch current team roster\n",
    "    roster = commonteamroster.CommonTeamRoster(team_id=team_id).get_data_frames()[0]\n",
    "    player_ids = roster['PLAYER_ID']\n",
    "    player_names = roster['PLAYER']\n",
    "\n",
    "    # Create an empty DataFrame to store player game logs\n",
    "    all_player_logs = pd.DataFrame()\n",
    "\n",
    "    # Fetch recent game logs for each player on the team\n",
    "    for player_id, player_name in zip(player_ids, player_names):\n",
    "        print(f\"Fetching game log for: {player_name}\")\n",
    "        try:\n",
    "            player_log = playergamelog.PlayerGameLog(player_id=player_id, season='2023-24').get_data_frames()[0]\n",
    "            player_log['PLAYER_NAME'] = player_name\n",
    "            all_player_logs = pd.concat([all_player_logs, player_log], ignore_index=True)\n",
    "        except Exception as e:\n",
    "            print(f\"Error fetching data for {player_name}: {e}\")\n",
    "\n",
    "    return all_player_logs\n",
    "\n",
    "\n",
    "# Step 4: Combine Historical and Future Games\n",
    "def main():\n",
    "\n",
    "    # Call functions\n",
    "    print(\"\\nFetching past games...\")\n",
    "    past_games = fetch_past_games()\n",
    "    print(\"\\nFetching future games...\")\n",
    "    future_games = fetch_future_games()\n",
    "    print(\"\\nFetching player data...\")\n",
    "    player_logs = fetch_player_data()\n",
    "\n",
    "    # Save to CSV\n",
    "    output_folder = \"data\"\n",
    "    if not os.path.exists(output_folder):\n",
    "        os.makedirs(output_folder)\n",
    "\n",
    "    # Save files into the 'data' folder\n",
    "    future_games.to_csv(os.path.join(output_folder, 'celtics_future_games.csv'), index=False)\n",
    "    past_games.to_csv(os.path.join(output_folder, 'celtics_past_games.csv'), index=False)\n",
    "    player_logs.to_csv(os.path.join(output_folder, 'celtics_player_data.csv'), index=False)\n",
    "    print(\".csv files saved.\")\n",
    "\n",
    "if __name__ == \"__main__\":\n",
    "    main()\n"
   ]
  },
  {
   "cell_type": "markdown",
   "metadata": {},
   "source": [
    "## Data cleaning"
   ]
  }
 ],
 "metadata": {
  "kernelspec": {
   "display_name": "base",
   "language": "python",
   "name": "python3"
  },
  "language_info": {
   "codemirror_mode": {
    "name": "ipython",
    "version": 3
   },
   "file_extension": ".py",
   "mimetype": "text/x-python",
   "name": "python",
   "nbconvert_exporter": "python",
   "pygments_lexer": "ipython3",
   "version": "3.11.7"
  }
 },
 "nbformat": 4,
 "nbformat_minor": 2
}
